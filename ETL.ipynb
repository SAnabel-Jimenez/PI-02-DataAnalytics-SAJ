{
 "cells": [
  {
   "cell_type": "markdown",
   "metadata": {},
   "source": [
    "## Extracción, Tratamiento y Carga de datos (ETL)\n",
    "\n",
    "### Objetivo\n",
    "\n",
    "El objetivo de este notebook es realizar un proceso de ETL de los datasets . Como primer paso los datos se prepararán y limpiarán para su posterior análisis.\n",
    "\n",
    "### Archivo de Datos: `homicidios.xlsx` y `lesiones.xlsx`\n",
    "\n",
    "El archivo contiene información sobre los siniestros viales: homicidio (victimas fatales) y lesiones (victimas no fatales).\n",
    "\n",
    "El detalle de los datos se encuentran en el siguiente [LINK](https://cdn.buenosaires.gob.ar/datosabiertos/datasets/transporte-y-obras-publicas/victimas-siniestros-viales/NOTAS_HOMICIDIOS_SINIESTRO_VIAL.pdf) con información de las variables.\n"
   ]
  },
  {
   "cell_type": "markdown",
   "metadata": {},
   "source": [
    "### 1. Carga de datos"
   ]
  },
  {
   "cell_type": "markdown",
   "metadata": {},
   "source": [
    "LIBRERÍAS"
   ]
  },
  {
   "cell_type": "code",
   "execution_count": 3,
   "metadata": {},
   "outputs": [],
   "source": [
    "import pandas as pd\n",
    "import numpy as np\n",
    "#pip install openpyxl\n"
   ]
  },
  {
   "cell_type": "code",
   "execution_count": 4,
   "metadata": {},
   "outputs": [],
   "source": [
    "# Cargamos los archivos\n",
    "df_homicidios = pd.read_excel(\"homicidios.xlsx\", sheet_name= ['HECHOS','VICTIMAS'])\n",
    "df_lesiones = pd.read_excel(\"lesiones.xlsx\", sheet_name= ['HECHOS','VICTIMAS'])\n"
   ]
  },
  {
   "cell_type": "markdown",
   "metadata": {},
   "source": [
    "### 2. Exploramos el dataframe"
   ]
  },
  {
   "cell_type": "markdown",
   "metadata": {},
   "source": [
    "#### 2.1 Homicidios - Hechos\n",
    "\n",
    "Se explora la data del archivo `homicidios.xlsx` específicamente la hoja HECHOS.\n",
    "Contine una fila ppr hecho con id único y las variables asociadas."
   ]
  },
  {
   "cell_type": "code",
   "execution_count": 5,
   "metadata": {},
   "outputs": [
    {
     "name": "stdout",
     "output_type": "stream",
     "text": [
      "(696, 21)\n"
     ]
    },
    {
     "data": {
      "text/html": [
       "<div>\n",
       "<style scoped>\n",
       "    .dataframe tbody tr th:only-of-type {\n",
       "        vertical-align: middle;\n",
       "    }\n",
       "\n",
       "    .dataframe tbody tr th {\n",
       "        vertical-align: top;\n",
       "    }\n",
       "\n",
       "    .dataframe thead th {\n",
       "        text-align: right;\n",
       "    }\n",
       "</style>\n",
       "<table border=\"1\" class=\"dataframe\">\n",
       "  <thead>\n",
       "    <tr style=\"text-align: right;\">\n",
       "      <th></th>\n",
       "      <th>ID</th>\n",
       "      <th>N_VICTIMAS</th>\n",
       "      <th>FECHA</th>\n",
       "      <th>AAAA</th>\n",
       "      <th>MM</th>\n",
       "      <th>DD</th>\n",
       "      <th>HORA</th>\n",
       "      <th>HH</th>\n",
       "      <th>LUGAR_DEL_HECHO</th>\n",
       "      <th>TIPO_DE_CALLE</th>\n",
       "      <th>...</th>\n",
       "      <th>Altura</th>\n",
       "      <th>Cruce</th>\n",
       "      <th>Dirección Normalizada</th>\n",
       "      <th>COMUNA</th>\n",
       "      <th>XY (CABA)</th>\n",
       "      <th>pos x</th>\n",
       "      <th>pos y</th>\n",
       "      <th>PARTICIPANTES</th>\n",
       "      <th>VICTIMA</th>\n",
       "      <th>ACUSADO</th>\n",
       "    </tr>\n",
       "  </thead>\n",
       "  <tbody>\n",
       "    <tr>\n",
       "      <th>0</th>\n",
       "      <td>2016-0001</td>\n",
       "      <td>1</td>\n",
       "      <td>2016-01-01</td>\n",
       "      <td>2016</td>\n",
       "      <td>1</td>\n",
       "      <td>1</td>\n",
       "      <td>04:00:00</td>\n",
       "      <td>4</td>\n",
       "      <td>AV PIEDRA BUENA Y AV FERNANDEZ DE LA CRUZ</td>\n",
       "      <td>AVENIDA</td>\n",
       "      <td>...</td>\n",
       "      <td>NaN</td>\n",
       "      <td>FERNANDEZ DE LA CRUZ, F., GRAL. AV.</td>\n",
       "      <td>PIEDRA BUENA AV. y FERNANDEZ DE LA CRUZ, F., G...</td>\n",
       "      <td>8</td>\n",
       "      <td>Point (98896.78238426 93532.43437792)</td>\n",
       "      <td>-58.47533969</td>\n",
       "      <td>-34.68757022</td>\n",
       "      <td>MOTO-AUTO</td>\n",
       "      <td>MOTO</td>\n",
       "      <td>AUTO</td>\n",
       "    </tr>\n",
       "    <tr>\n",
       "      <th>1</th>\n",
       "      <td>2016-0002</td>\n",
       "      <td>1</td>\n",
       "      <td>2016-01-02</td>\n",
       "      <td>2016</td>\n",
       "      <td>1</td>\n",
       "      <td>2</td>\n",
       "      <td>01:15:00</td>\n",
       "      <td>1</td>\n",
       "      <td>AV GRAL PAZ  Y AV DE LOS CORRALES</td>\n",
       "      <td>GRAL PAZ</td>\n",
       "      <td>...</td>\n",
       "      <td>NaN</td>\n",
       "      <td>DE LOS CORRALES AV.</td>\n",
       "      <td>PAZ, GRAL. AV. y DE LOS CORRALES AV.</td>\n",
       "      <td>9</td>\n",
       "      <td>Point (95832.05571093 95505.41641999)</td>\n",
       "      <td>-58.50877521</td>\n",
       "      <td>-34.66977709</td>\n",
       "      <td>AUTO-PASAJEROS</td>\n",
       "      <td>AUTO</td>\n",
       "      <td>PASAJEROS</td>\n",
       "    </tr>\n",
       "  </tbody>\n",
       "</table>\n",
       "<p>2 rows × 21 columns</p>\n",
       "</div>"
      ],
      "text/plain": [
       "          ID  N_VICTIMAS      FECHA  AAAA  MM  DD      HORA HH  \\\n",
       "0  2016-0001           1 2016-01-01  2016   1   1  04:00:00  4   \n",
       "1  2016-0002           1 2016-01-02  2016   1   2  01:15:00  1   \n",
       "\n",
       "                             LUGAR_DEL_HECHO TIPO_DE_CALLE  ... Altura  \\\n",
       "0  AV PIEDRA BUENA Y AV FERNANDEZ DE LA CRUZ       AVENIDA  ...    NaN   \n",
       "1          AV GRAL PAZ  Y AV DE LOS CORRALES      GRAL PAZ  ...    NaN   \n",
       "\n",
       "                                 Cruce  \\\n",
       "0  FERNANDEZ DE LA CRUZ, F., GRAL. AV.   \n",
       "1                  DE LOS CORRALES AV.   \n",
       "\n",
       "                               Dirección Normalizada COMUNA  \\\n",
       "0  PIEDRA BUENA AV. y FERNANDEZ DE LA CRUZ, F., G...      8   \n",
       "1               PAZ, GRAL. AV. y DE LOS CORRALES AV.      9   \n",
       "\n",
       "                               XY (CABA)         pos x         pos y  \\\n",
       "0  Point (98896.78238426 93532.43437792)  -58.47533969  -34.68757022   \n",
       "1  Point (95832.05571093 95505.41641999)  -58.50877521  -34.66977709   \n",
       "\n",
       "    PARTICIPANTES VICTIMA    ACUSADO  \n",
       "0       MOTO-AUTO    MOTO       AUTO  \n",
       "1  AUTO-PASAJEROS    AUTO  PASAJEROS  \n",
       "\n",
       "[2 rows x 21 columns]"
      ]
     },
     "execution_count": 5,
     "metadata": {},
     "output_type": "execute_result"
    }
   ],
   "source": [
    "df_homicidios_hechos = df_homicidios['HECHOS']\n",
    "print(df_homicidios_hechos.shape)\n",
    "df_homicidios_hechos.head(2)"
   ]
  },
  {
   "cell_type": "markdown",
   "metadata": {},
   "source": [
    "Revisamos la estructura y la calidad de los datos del Dataframe \"df_homicidios_hechos\""
   ]
  },
  {
   "cell_type": "code",
   "execution_count": 6,
   "metadata": {},
   "outputs": [
    {
     "name": "stdout",
     "output_type": "stream",
     "text": [
      "<class 'pandas.core.frame.DataFrame'>\n",
      "RangeIndex: 696 entries, 0 to 695\n",
      "Data columns (total 21 columns):\n",
      " #   Column                 Non-Null Count  Dtype         \n",
      "---  ------                 --------------  -----         \n",
      " 0   ID                     696 non-null    object        \n",
      " 1   N_VICTIMAS             696 non-null    int64         \n",
      " 2   FECHA                  696 non-null    datetime64[ns]\n",
      " 3   AAAA                   696 non-null    int64         \n",
      " 4   MM                     696 non-null    int64         \n",
      " 5   DD                     696 non-null    int64         \n",
      " 6   HORA                   696 non-null    object        \n",
      " 7   HH                     696 non-null    object        \n",
      " 8   LUGAR_DEL_HECHO        696 non-null    object        \n",
      " 9   TIPO_DE_CALLE          696 non-null    object        \n",
      " 10  Calle                  695 non-null    object        \n",
      " 11  Altura                 129 non-null    float64       \n",
      " 12  Cruce                  525 non-null    object        \n",
      " 13  Dirección Normalizada  688 non-null    object        \n",
      " 14  COMUNA                 696 non-null    int64         \n",
      " 15  XY (CABA)              696 non-null    object        \n",
      " 16  pos x                  696 non-null    object        \n",
      " 17  pos y                  696 non-null    object        \n",
      " 18  PARTICIPANTES          696 non-null    object        \n",
      " 19  VICTIMA                696 non-null    object        \n",
      " 20  ACUSADO                696 non-null    object        \n",
      "dtypes: datetime64[ns](1), float64(1), int64(5), object(14)\n",
      "memory usage: 114.3+ KB\n"
     ]
    }
   ],
   "source": [
    "#Con .info() obtenemos una visión general rápida del DataFrame\n",
    "df_homicidios_hechos.info()"
   ]
  },
  {
   "cell_type": "markdown",
   "metadata": {},
   "source": [
    "De las 21 columnas, 4 tienen valores nulos ('Calle', 'Altura', 'Cruce' y 'Dirección Normalizada'). Nota: Algunos valores en las columnas son SD: Sin Dato. Se considera como NaN."
   ]
  },
  {
   "cell_type": "code",
   "execution_count": 7,
   "metadata": {},
   "outputs": [],
   "source": [
    "# Backup\n",
    "df1 = df_homicidios_hechos.copy()"
   ]
  },
  {
   "cell_type": "markdown",
   "metadata": {},
   "source": [
    "LIMPIEZA Y PREPROCESAMIENTO DE LOS DATOS"
   ]
  },
  {
   "cell_type": "markdown",
   "metadata": {},
   "source": [
    "Eliminamos columnas con la misma información: Quitamos algunas columnas que nos brinda la misma información, se busca mejorar el renidmiento y reducir redundancia:\n",
    "\n",
    "|Columnas a eliminar|Justificación|\n",
    "|----|----|\n",
    "|'AAAA', 'MM', 'DD'| Esta información se encuentra también en la variable 'FECHA'|\n",
    "|'HORA'|Esta información se encuentra en HH. En este caso nos centraremos en la franja horaria entera del siniestro para simplificar cálculos.|\n",
    "|'PARTICIPANTES'| Esta información se encuentra en las columnas VICTIMA y ACUSADO|\n",
    "|'XY (CABA)'|Se opta por trabajar con las coordenas xy|\n",
    "|'Dirección Normalizada'|Se opta por trabajar con las coordenadas|\n"
   ]
  },
  {
   "cell_type": "code",
   "execution_count": 8,
   "metadata": {},
   "outputs": [],
   "source": [
    "columnas_a_eliminar =[\"AAAA\",\"MM\",\"DD\",\"HORA\",\"PARTICIPANTES\",\"XY (CABA)\",'Dirección Normalizada']\n",
    "df1.drop(columnas_a_eliminar, axis=1, inplace=True)\n"
   ]
  },
  {
   "cell_type": "markdown",
   "metadata": {},
   "source": [
    "Estandarizamos nulos"
   ]
  },
  {
   "cell_type": "code",
   "execution_count": 9,
   "metadata": {},
   "outputs": [],
   "source": [
    "# Reemplaza 'SD' por NaN en todo el DataFrame\n",
    "df1.replace('SD', np.nan, inplace=True)\n"
   ]
  },
  {
   "cell_type": "code",
   "execution_count": 10,
   "metadata": {},
   "outputs": [
    {
     "name": "stdout",
     "output_type": "stream",
     "text": [
      "Columnas con valores nulos:\n",
      "HH                   1\n",
      "LUGAR_DEL_HECHO      1\n",
      "Calle                1\n",
      "Altura             567\n",
      "Cruce              171\n",
      "VICTIMA              9\n",
      "ACUSADO             23\n",
      "dtype: int64\n"
     ]
    }
   ],
   "source": [
    "# Contamos los valores nulos\n",
    "columnas_con_nulos = df1.isnull().sum()\n",
    "\n",
    "# Filtra solo las columnas que tienen al menos un valor nulo\n",
    "columnas_con_nulos = columnas_con_nulos[columnas_con_nulos > 0]\n",
    "print(\"Columnas con valores nulos:\")\n",
    "print(columnas_con_nulos)"
   ]
  },
  {
   "cell_type": "markdown",
   "metadata": {},
   "source": [
    "Renombramos columnas"
   ]
  },
  {
   "cell_type": "code",
   "execution_count": 11,
   "metadata": {},
   "outputs": [],
   "source": [
    "# Para mejorar la consistencia y la legibilidad de los nombres de las columnas en un conjunto de datos.\n",
    "nuevos_nombres = {'ID': 'ID_siniestro', 'N_VICTIMAS': 'Nro_victimas', 'FECHA':'Fecha','HH':'Franja_horaria','TIPO_DE_CALLE':'Tipo_calle','COMUNA':'Comuna','pos x': 'Longitud','pos y':'Latitud','VICTIMA':'Vehiculo_Victima','ACUSADO':'Vehiculo_Acusado' }\n",
    "df1.rename(columns=nuevos_nombres, inplace=True)"
   ]
  },
  {
   "cell_type": "markdown",
   "metadata": {},
   "source": [
    "Completamos datos de Longitud y Latitud"
   ]
  },
  {
   "cell_type": "code",
   "execution_count": 12,
   "metadata": {},
   "outputs": [
    {
     "data": {
      "text/plain": [
       "(12, 14)"
      ]
     },
     "execution_count": 12,
     "metadata": {},
     "output_type": "execute_result"
    }
   ],
   "source": [
    "# Filtra solo columnas sin coordenadas\n",
    "df_w_coord = df1[(df1['Longitud'] == '.') & (df1['Latitud'] == '.')]\n",
    "df_w_coord.shape"
   ]
  },
  {
   "cell_type": "markdown",
   "metadata": {},
   "source": [
    "Completamos datos de latitud y longitud con datos de la web ([Google Maps](https://support.google.com/maps/answer/18539?hl=es-MX&co=GENIE.Platform%3DDesktop#:~:text=C%C3%B3mo%20obtener%20las%20coordenadas%20de,decimal%20en%20la%20parte%20superior) y de [Comunas Buenos Aires](https://www.argentina.gob.ar/caba/comunas))"
   ]
  },
  {
   "cell_type": "code",
   "execution_count": 13,
   "metadata": {},
   "outputs": [],
   "source": [
    "df1.loc[df1['ID_siniestro'] == '2020-0039', ['Longitud', 'Latitud']] = [-58.40294110948785, -34.66235319327016]\n",
    "df1.loc[df1['ID_siniestro'] == '2021-0023', ['Longitud', 'Latitud']]= [-58.356652005326985, -34.628377264063815]\n",
    "df1.loc[df1['ID_siniestro'] == '2020-0026', ['Longitud', 'Latitud']]= [-58.42560076032446, -34.5558736017778] \n",
    "df1.loc[df1['ID_siniestro'] == '2018-0039', ['Longitud', 'Latitud']]= [-58.41514789314846, -34.56342648312684] \n",
    "df1.loc[df1['ID_siniestro'] == '2017-0140', ['Longitud', 'Latitud']]= [-58.380775770, -34.622228850] \n",
    "df1.loc[df1['ID_siniestro'] == '2017-0051', ['Longitud', 'Latitud']]= [-58.46627594679307, -34.650250816993506] \n",
    "df1.loc[df1['ID_siniestro'] == '2017-0050', ['Longitud', 'Latitud']]= [-58.46570592606029, -34.649354633269255] \n",
    "df1.loc[df1['ID_siniestro'] == '2017-0042', ['Longitud', 'Latitud']]= [-58.42364891764647, -34.55707759622746] \n",
    "df1.loc[df1['ID_siniestro'] == '2016-0174', ['Longitud', 'Latitud']]= [-58.454422502287365, -34.63738948123826] # Aproximado\n",
    "df1.loc[df1['ID_siniestro'] == '2016-0151', ['Longitud', 'Latitud']]= [-58.50801713, -34.65177305] # Aproximado\n",
    "df1.loc[df1['ID_siniestro'] == '2016-0136', ['Longitud', 'Latitud']]= [-58.356652005326985, -34.628377264063815]\n",
    "df1.loc[df1['ID_siniestro'] == '2016-0052', ['Longitud', 'Latitud']]= [-58.46435413701649, -34.534604784866964] \n",
    "\n"
   ]
  },
  {
   "cell_type": "markdown",
   "metadata": {},
   "source": [
    "Los valores de las *comunas* se pueden aproximar con las coordenadas u otra información de la zona\n"
   ]
  },
  {
   "cell_type": "code",
   "execution_count": 14,
   "metadata": {},
   "outputs": [],
   "source": [
    "# Paras las comunas = 0\n",
    "df1.loc[df1['ID_siniestro'] == '2016-0151', ['Comuna']] = [9] # Segun Calle similares\n",
    "df1.loc[df1['ID_siniestro'] == '2016-0174', ['Comuna']] = [7] # Segun el lugar del hecho\n"
   ]
  },
  {
   "cell_type": "markdown",
   "metadata": {},
   "source": [
    "Completamos la Calle faltante"
   ]
  },
  {
   "cell_type": "code",
   "execution_count": 15,
   "metadata": {},
   "outputs": [],
   "source": [
    "df1.loc[df1['ID_siniestro'] == '2016-0151', 'Calle'] = 'Murguiondo'"
   ]
  },
  {
   "cell_type": "markdown",
   "metadata": {},
   "source": [
    "Establecemos el formato de las columnas"
   ]
  },
  {
   "cell_type": "code",
   "execution_count": 16,
   "metadata": {},
   "outputs": [],
   "source": [
    "# Damos tipo de datos adecuado\n",
    "# Justificacion: Reducir el uso de memoria y mejorar el rendimiento.\n",
    "df1['Franja_horaria'] = pd.to_numeric(df1['Franja_horaria'], errors='coerce').astype('Int64')\n",
    "df1['Franja_horaria'] = df1['Franja_horaria'].astype('category')\n",
    "df1['Tipo_calle'] = df1['Tipo_calle'].astype('category')\n",
    "df1['Comuna'] = df1['Comuna'].astype('category')\n",
    "df1['Vehiculo_Victima'] = df1['Vehiculo_Victima'].astype('category')\n",
    "df1['Vehiculo_Acusado'] = df1['Vehiculo_Acusado'].astype('category')\n",
    "# A este punto Franja_horaria, Comuna y Nro_victimas son int"
   ]
  },
  {
   "cell_type": "markdown",
   "metadata": {},
   "source": [
    "Filtramos columnas necesarias"
   ]
  },
  {
   "cell_type": "code",
   "execution_count": 17,
   "metadata": {},
   "outputs": [],
   "source": [
    "columnas_a_eliminar2 =['LUGAR_DEL_HECHO','Cruce','Altura','Calle']\n",
    "df1.drop(columnas_a_eliminar2, axis=1, inplace=True)"
   ]
  },
  {
   "cell_type": "markdown",
   "metadata": {},
   "source": [
    "Eliminamos duplicados"
   ]
  },
  {
   "cell_type": "code",
   "execution_count": 18,
   "metadata": {},
   "outputs": [
    {
     "data": {
      "text/plain": [
       "0"
      ]
     },
     "execution_count": 18,
     "metadata": {},
     "output_type": "execute_result"
    }
   ],
   "source": [
    "df1.duplicated().sum()"
   ]
  },
  {
   "cell_type": "markdown",
   "metadata": {},
   "source": [
    "Validación de valores: \n",
    "\n",
    "Segun el diccionario de hechos hay validaciones de los valores que puede tomar el 'Tipo_calle', 'Vehiculo_Victima', 'Vehiculo_Acusado', '"
   ]
  },
  {
   "cell_type": "code",
   "execution_count": 19,
   "metadata": {},
   "outputs": [
    {
     "data": {
      "text/plain": [
       "Tipo_calle\n",
       "AVENIDA      429\n",
       "CALLE        136\n",
       "AUTOPISTA     66\n",
       "GRAL PAZ      65\n",
       "Name: count, dtype: int64"
      ]
     },
     "execution_count": 19,
     "metadata": {},
     "output_type": "execute_result"
    }
   ],
   "source": [
    "df1['Tipo_calle'].value_counts()"
   ]
  },
  {
   "cell_type": "code",
   "execution_count": 20,
   "metadata": {},
   "outputs": [
    {
     "data": {
      "text/plain": [
       "Vehiculo_Victima\n",
       "MOTO           295\n",
       "PEATON         264\n",
       "AUTO            83\n",
       "BICICLETA       29\n",
       "CARGAS           7\n",
       "PASAJEROS        5\n",
       "MOVIL            2\n",
       "OBJETO FIJO      1\n",
       "PEATON_MOTO      1\n",
       "Name: count, dtype: int64"
      ]
     },
     "execution_count": 20,
     "metadata": {},
     "output_type": "execute_result"
    }
   ],
   "source": [
    "df1['Vehiculo_Victima'].value_counts()"
   ]
  },
  {
   "cell_type": "code",
   "execution_count": 21,
   "metadata": {},
   "outputs": [],
   "source": [
    "# Reemplazamos por 'Otro' los distintos valores de cada variable\n",
    "df1['Vehiculo_Victima'].replace(['PEATON_MOTO', 'OBJETO FIJO'], 'Otro', inplace=True)\n"
   ]
  },
  {
   "cell_type": "code",
   "execution_count": 22,
   "metadata": {},
   "outputs": [
    {
     "data": {
      "text/plain": [
       "Vehiculo_Acusado\n",
       "AUTO           204\n",
       "PASAJEROS      173\n",
       "CARGAS         146\n",
       "OBJETO FIJO     62\n",
       "MOTO            57\n",
       "MULTIPLE        17\n",
       "BICICLETA        7\n",
       "OTRO             6\n",
       "TREN             1\n",
       "Name: count, dtype: int64"
      ]
     },
     "execution_count": 22,
     "metadata": {},
     "output_type": "execute_result"
    }
   ],
   "source": [
    "df1['Vehiculo_Acusado'].value_counts()"
   ]
  },
  {
   "cell_type": "markdown",
   "metadata": {},
   "source": [
    "Resumen"
   ]
  },
  {
   "cell_type": "code",
   "execution_count": 23,
   "metadata": {},
   "outputs": [
    {
     "name": "stdout",
     "output_type": "stream",
     "text": [
      "<class 'pandas.core.frame.DataFrame'>\n",
      "RangeIndex: 696 entries, 0 to 695\n",
      "Data columns (total 10 columns):\n",
      " #   Column            Non-Null Count  Dtype         \n",
      "---  ------            --------------  -----         \n",
      " 0   ID_siniestro      696 non-null    object        \n",
      " 1   Nro_victimas      696 non-null    int64         \n",
      " 2   Fecha             696 non-null    datetime64[ns]\n",
      " 3   Franja_horaria    695 non-null    category      \n",
      " 4   Tipo_calle        696 non-null    category      \n",
      " 5   Comuna            696 non-null    category      \n",
      " 6   Longitud          696 non-null    object        \n",
      " 7   Latitud           696 non-null    object        \n",
      " 8   Vehiculo_Victima  687 non-null    category      \n",
      " 9   Vehiculo_Acusado  673 non-null    category      \n",
      "dtypes: category(5), datetime64[ns](1), int64(1), object(3)\n",
      "memory usage: 33.0+ KB\n"
     ]
    }
   ],
   "source": [
    "df1.info()"
   ]
  },
  {
   "cell_type": "code",
   "execution_count": 24,
   "metadata": {},
   "outputs": [
    {
     "data": {
      "text/html": [
       "<div>\n",
       "<style scoped>\n",
       "    .dataframe tbody tr th:only-of-type {\n",
       "        vertical-align: middle;\n",
       "    }\n",
       "\n",
       "    .dataframe tbody tr th {\n",
       "        vertical-align: top;\n",
       "    }\n",
       "\n",
       "    .dataframe thead th {\n",
       "        text-align: right;\n",
       "    }\n",
       "</style>\n",
       "<table border=\"1\" class=\"dataframe\">\n",
       "  <thead>\n",
       "    <tr style=\"text-align: right;\">\n",
       "      <th></th>\n",
       "      <th>ID_siniestro</th>\n",
       "      <th>Nro_victimas</th>\n",
       "      <th>Fecha</th>\n",
       "      <th>Franja_horaria</th>\n",
       "      <th>Tipo_calle</th>\n",
       "      <th>Comuna</th>\n",
       "      <th>Longitud</th>\n",
       "      <th>Latitud</th>\n",
       "      <th>Vehiculo_Victima</th>\n",
       "      <th>Vehiculo_Acusado</th>\n",
       "    </tr>\n",
       "  </thead>\n",
       "  <tbody>\n",
       "    <tr>\n",
       "      <th>0</th>\n",
       "      <td>2016-0001</td>\n",
       "      <td>1</td>\n",
       "      <td>2016-01-01</td>\n",
       "      <td>4</td>\n",
       "      <td>AVENIDA</td>\n",
       "      <td>8</td>\n",
       "      <td>-58.47533969</td>\n",
       "      <td>-34.68757022</td>\n",
       "      <td>MOTO</td>\n",
       "      <td>AUTO</td>\n",
       "    </tr>\n",
       "    <tr>\n",
       "      <th>1</th>\n",
       "      <td>2016-0002</td>\n",
       "      <td>1</td>\n",
       "      <td>2016-01-02</td>\n",
       "      <td>1</td>\n",
       "      <td>GRAL PAZ</td>\n",
       "      <td>9</td>\n",
       "      <td>-58.50877521</td>\n",
       "      <td>-34.66977709</td>\n",
       "      <td>AUTO</td>\n",
       "      <td>PASAJEROS</td>\n",
       "    </tr>\n",
       "  </tbody>\n",
       "</table>\n",
       "</div>"
      ],
      "text/plain": [
       "  ID_siniestro  Nro_victimas      Fecha Franja_horaria Tipo_calle Comuna  \\\n",
       "0    2016-0001             1 2016-01-01              4    AVENIDA      8   \n",
       "1    2016-0002             1 2016-01-02              1   GRAL PAZ      9   \n",
       "\n",
       "       Longitud       Latitud Vehiculo_Victima Vehiculo_Acusado  \n",
       "0  -58.47533969  -34.68757022             MOTO             AUTO  \n",
       "1  -58.50877521  -34.66977709             AUTO        PASAJEROS  "
      ]
     },
     "execution_count": 24,
     "metadata": {},
     "output_type": "execute_result"
    }
   ],
   "source": [
    "df1.head(2)"
   ]
  },
  {
   "cell_type": "markdown",
   "metadata": {},
   "source": [
    "#### 2.2 Homicidios - Victimas\n",
    "\n",
    "Se explora la data del archivo `homicidios.xlsx` específicamente la hoja VICTIMAS. Contiene una fila por cada víctima de los hechos "
   ]
  },
  {
   "cell_type": "code",
   "execution_count": 25,
   "metadata": {},
   "outputs": [
    {
     "name": "stdout",
     "output_type": "stream",
     "text": [
      "(717, 10)\n"
     ]
    },
    {
     "data": {
      "text/html": [
       "<div>\n",
       "<style scoped>\n",
       "    .dataframe tbody tr th:only-of-type {\n",
       "        vertical-align: middle;\n",
       "    }\n",
       "\n",
       "    .dataframe tbody tr th {\n",
       "        vertical-align: top;\n",
       "    }\n",
       "\n",
       "    .dataframe thead th {\n",
       "        text-align: right;\n",
       "    }\n",
       "</style>\n",
       "<table border=\"1\" class=\"dataframe\">\n",
       "  <thead>\n",
       "    <tr style=\"text-align: right;\">\n",
       "      <th></th>\n",
       "      <th>ID_hecho</th>\n",
       "      <th>FECHA</th>\n",
       "      <th>AAAA</th>\n",
       "      <th>MM</th>\n",
       "      <th>DD</th>\n",
       "      <th>ROL</th>\n",
       "      <th>VICTIMA</th>\n",
       "      <th>SEXO</th>\n",
       "      <th>EDAD</th>\n",
       "      <th>FECHA_FALLECIMIENTO</th>\n",
       "    </tr>\n",
       "  </thead>\n",
       "  <tbody>\n",
       "    <tr>\n",
       "      <th>0</th>\n",
       "      <td>2016-0001</td>\n",
       "      <td>2016-01-01</td>\n",
       "      <td>2016</td>\n",
       "      <td>1</td>\n",
       "      <td>1</td>\n",
       "      <td>CONDUCTOR</td>\n",
       "      <td>MOTO</td>\n",
       "      <td>MASCULINO</td>\n",
       "      <td>19</td>\n",
       "      <td>2016-01-01 00:00:00</td>\n",
       "    </tr>\n",
       "    <tr>\n",
       "      <th>1</th>\n",
       "      <td>2016-0002</td>\n",
       "      <td>2016-01-02</td>\n",
       "      <td>2016</td>\n",
       "      <td>1</td>\n",
       "      <td>2</td>\n",
       "      <td>CONDUCTOR</td>\n",
       "      <td>AUTO</td>\n",
       "      <td>MASCULINO</td>\n",
       "      <td>70</td>\n",
       "      <td>2016-01-02 00:00:00</td>\n",
       "    </tr>\n",
       "  </tbody>\n",
       "</table>\n",
       "</div>"
      ],
      "text/plain": [
       "    ID_hecho      FECHA  AAAA  MM  DD        ROL VICTIMA       SEXO EDAD  \\\n",
       "0  2016-0001 2016-01-01  2016   1   1  CONDUCTOR    MOTO  MASCULINO   19   \n",
       "1  2016-0002 2016-01-02  2016   1   2  CONDUCTOR    AUTO  MASCULINO   70   \n",
       "\n",
       "   FECHA_FALLECIMIENTO  \n",
       "0  2016-01-01 00:00:00  \n",
       "1  2016-01-02 00:00:00  "
      ]
     },
     "execution_count": 25,
     "metadata": {},
     "output_type": "execute_result"
    }
   ],
   "source": [
    "df_homicidios_victimas = df_homicidios['VICTIMAS']\n",
    "print(df_homicidios_victimas.shape)\n",
    "df_homicidios_victimas.head(2)"
   ]
  },
  {
   "cell_type": "code",
   "execution_count": 26,
   "metadata": {},
   "outputs": [
    {
     "name": "stdout",
     "output_type": "stream",
     "text": [
      "<class 'pandas.core.frame.DataFrame'>\n",
      "RangeIndex: 717 entries, 0 to 716\n",
      "Data columns (total 10 columns):\n",
      " #   Column               Non-Null Count  Dtype         \n",
      "---  ------               --------------  -----         \n",
      " 0   ID_hecho             717 non-null    object        \n",
      " 1   FECHA                717 non-null    datetime64[ns]\n",
      " 2   AAAA                 717 non-null    int64         \n",
      " 3   MM                   717 non-null    int64         \n",
      " 4   DD                   717 non-null    int64         \n",
      " 5   ROL                  717 non-null    object        \n",
      " 6   VICTIMA              717 non-null    object        \n",
      " 7   SEXO                 717 non-null    object        \n",
      " 8   EDAD                 717 non-null    object        \n",
      " 9   FECHA_FALLECIMIENTO  717 non-null    object        \n",
      "dtypes: datetime64[ns](1), int64(3), object(6)\n",
      "memory usage: 56.1+ KB\n"
     ]
    }
   ],
   "source": [
    "df_homicidios_victimas.info()"
   ]
  },
  {
   "cell_type": "markdown",
   "metadata": {},
   "source": [
    "No hay nulos. Nota: Algunos valores en las columnas son SD (Sin Dato). Se considera como NaN."
   ]
  },
  {
   "cell_type": "code",
   "execution_count": 27,
   "metadata": {},
   "outputs": [],
   "source": [
    "# Backup\n",
    "df2 = df_homicidios_victimas.copy()"
   ]
  },
  {
   "cell_type": "markdown",
   "metadata": {},
   "source": [
    "LIMPIEZA Y PREPROCESAMIENTO DE LOS DATOS"
   ]
  },
  {
   "cell_type": "markdown",
   "metadata": {},
   "source": [
    "Estandarizamos nulos"
   ]
  },
  {
   "cell_type": "code",
   "execution_count": 28,
   "metadata": {},
   "outputs": [],
   "source": [
    "# Reemplaza 'SD' por NaN en todo el DataFrame\n",
    "df2.replace('SD', np.nan, inplace=True)\n"
   ]
  },
  {
   "cell_type": "code",
   "execution_count": 29,
   "metadata": {},
   "outputs": [
    {
     "name": "stdout",
     "output_type": "stream",
     "text": [
      "Columnas con valores nulos:\n",
      "ROL                    11\n",
      "VICTIMA                 9\n",
      "SEXO                    6\n",
      "EDAD                   53\n",
      "FECHA_FALLECIMIENTO    68\n",
      "dtype: int64\n"
     ]
    }
   ],
   "source": [
    "# Contamos los valores nulos\n",
    "columnas_con_nulos = df2.isnull().sum()\n",
    "\n",
    "# Filtra solo las columnas que tienen al menos un valor nulo\n",
    "columnas_con_nulos = columnas_con_nulos[columnas_con_nulos > 0]\n",
    "print(\"Columnas con valores nulos:\")\n",
    "print(columnas_con_nulos)"
   ]
  },
  {
   "cell_type": "markdown",
   "metadata": {},
   "source": [
    "Eliminamos columnas con la misma información: Quitamos algunas columnas que nos brinda la misma información, se busca mejorar el rendimiento y reducir redundancia:\n",
    "\n",
    "|Columnas a eliminar|Justificación|\n",
    "|----|----|\n",
    "|'AAAA', 'MM', 'DD'| Esta información se encuentra también en la variable 'FECHA'|\n",
    "|'FECHA' |Variable se puede encontrar en HECHOS a traves del ID del siniestro |\n",
    "|\"VICTIMA\"|Se tiene la misma informacion en HECHOS|\n",
    "|\"FECHA_FALLECIMIENTO\"|Nos enfocamos en la fatalidad|"
   ]
  },
  {
   "cell_type": "code",
   "execution_count": 30,
   "metadata": {},
   "outputs": [],
   "source": [
    "columnas_a_eliminar =[\"AAAA\",\"MM\",\"DD\",\"FECHA\",\"VICTIMA\",\"FECHA_FALLECIMIENTO\"]\n",
    "df2.drop(columnas_a_eliminar, axis=1, inplace=True)\n"
   ]
  },
  {
   "cell_type": "markdown",
   "metadata": {},
   "source": [
    "Renombramos columnas"
   ]
  },
  {
   "cell_type": "code",
   "execution_count": 31,
   "metadata": {},
   "outputs": [],
   "source": [
    "# Para mejorar la consistencia y la legibilidad de los nombres de las columnas en un conjunto de datos.\n",
    "nuevos_nombres = {'ID_hecho': 'ID_siniestro', 'ROL': 'Rol_vehiculo', 'SEXO':'Sexo', 'EDAD':'Edad'}\n",
    "df2.rename(columns=nuevos_nombres, inplace=True)"
   ]
  },
  {
   "cell_type": "code",
   "execution_count": 32,
   "metadata": {},
   "outputs": [
    {
     "data": {
      "text/html": [
       "<div>\n",
       "<style scoped>\n",
       "    .dataframe tbody tr th:only-of-type {\n",
       "        vertical-align: middle;\n",
       "    }\n",
       "\n",
       "    .dataframe tbody tr th {\n",
       "        vertical-align: top;\n",
       "    }\n",
       "\n",
       "    .dataframe thead th {\n",
       "        text-align: right;\n",
       "    }\n",
       "</style>\n",
       "<table border=\"1\" class=\"dataframe\">\n",
       "  <thead>\n",
       "    <tr style=\"text-align: right;\">\n",
       "      <th></th>\n",
       "      <th>ID_siniestro</th>\n",
       "      <th>Rol_vehiculo</th>\n",
       "      <th>Sexo</th>\n",
       "      <th>Edad</th>\n",
       "    </tr>\n",
       "  </thead>\n",
       "  <tbody>\n",
       "    <tr>\n",
       "      <th>0</th>\n",
       "      <td>2016-0001</td>\n",
       "      <td>CONDUCTOR</td>\n",
       "      <td>MASCULINO</td>\n",
       "      <td>19.0</td>\n",
       "    </tr>\n",
       "    <tr>\n",
       "      <th>1</th>\n",
       "      <td>2016-0002</td>\n",
       "      <td>CONDUCTOR</td>\n",
       "      <td>MASCULINO</td>\n",
       "      <td>70.0</td>\n",
       "    </tr>\n",
       "  </tbody>\n",
       "</table>\n",
       "</div>"
      ],
      "text/plain": [
       "  ID_siniestro Rol_vehiculo       Sexo  Edad\n",
       "0    2016-0001    CONDUCTOR  MASCULINO  19.0\n",
       "1    2016-0002    CONDUCTOR  MASCULINO  70.0"
      ]
     },
     "execution_count": 32,
     "metadata": {},
     "output_type": "execute_result"
    }
   ],
   "source": [
    "df2.head(2)"
   ]
  },
  {
   "cell_type": "markdown",
   "metadata": {},
   "source": [
    "Establecemos el formato de las columnas"
   ]
  },
  {
   "cell_type": "code",
   "execution_count": 33,
   "metadata": {},
   "outputs": [],
   "source": [
    "# Damos tipo de datos adecuado\n",
    "# Justificacion: Reducir el uso de memoria y mejorar el rendimiento.\n",
    "df2['Edad'] = pd.to_numeric(df2['Edad'], errors='coerce').astype('Int64')\n",
    "df2['Rol_vehiculo'] = df2['Rol_vehiculo'].astype('category')\n",
    "df2['Sexo'] = df2['Sexo'].astype('category')\n",
    "#df2['Vehiculo_Victima'] = df2['Vehiculo_Victima'].astype('category')"
   ]
  },
  {
   "cell_type": "markdown",
   "metadata": {},
   "source": [
    "Etiqueta de que los datos son de victimas fatales"
   ]
  },
  {
   "cell_type": "code",
   "execution_count": 34,
   "metadata": {},
   "outputs": [],
   "source": [
    "df2['gravedad'] = 'FATAL' #Terminología que se usa en el diccionario hechos del archivo lesiones"
   ]
  },
  {
   "cell_type": "code",
   "execution_count": 35,
   "metadata": {},
   "outputs": [
    {
     "name": "stdout",
     "output_type": "stream",
     "text": [
      "<class 'pandas.core.frame.DataFrame'>\n",
      "RangeIndex: 717 entries, 0 to 716\n",
      "Data columns (total 5 columns):\n",
      " #   Column        Non-Null Count  Dtype   \n",
      "---  ------        --------------  -----   \n",
      " 0   ID_siniestro  717 non-null    object  \n",
      " 1   Rol_vehiculo  706 non-null    category\n",
      " 2   Sexo          711 non-null    category\n",
      " 3   Edad          664 non-null    Int64   \n",
      " 4   gravedad      717 non-null    object  \n",
      "dtypes: Int64(1), category(2), object(2)\n",
      "memory usage: 19.4+ KB\n"
     ]
    }
   ],
   "source": [
    "df2.info()"
   ]
  },
  {
   "cell_type": "code",
   "execution_count": 36,
   "metadata": {},
   "outputs": [
    {
     "data": {
      "text/html": [
       "<div>\n",
       "<style scoped>\n",
       "    .dataframe tbody tr th:only-of-type {\n",
       "        vertical-align: middle;\n",
       "    }\n",
       "\n",
       "    .dataframe tbody tr th {\n",
       "        vertical-align: top;\n",
       "    }\n",
       "\n",
       "    .dataframe thead th {\n",
       "        text-align: right;\n",
       "    }\n",
       "</style>\n",
       "<table border=\"1\" class=\"dataframe\">\n",
       "  <thead>\n",
       "    <tr style=\"text-align: right;\">\n",
       "      <th></th>\n",
       "      <th>ID_siniestro</th>\n",
       "      <th>Rol_vehiculo</th>\n",
       "      <th>Sexo</th>\n",
       "      <th>Edad</th>\n",
       "      <th>gravedad</th>\n",
       "    </tr>\n",
       "  </thead>\n",
       "  <tbody>\n",
       "    <tr>\n",
       "      <th>712</th>\n",
       "      <td>2021-0092</td>\n",
       "      <td>PEATON</td>\n",
       "      <td>FEMENINO</td>\n",
       "      <td>50</td>\n",
       "      <td>FATAL</td>\n",
       "    </tr>\n",
       "    <tr>\n",
       "      <th>713</th>\n",
       "      <td>2021-0093</td>\n",
       "      <td>PASAJERO_ACOMPAÑANTE</td>\n",
       "      <td>FEMENINO</td>\n",
       "      <td>18</td>\n",
       "      <td>FATAL</td>\n",
       "    </tr>\n",
       "    <tr>\n",
       "      <th>714</th>\n",
       "      <td>2021-0094</td>\n",
       "      <td>PASAJERO_ACOMPAÑANTE</td>\n",
       "      <td>FEMENINO</td>\n",
       "      <td>43</td>\n",
       "      <td>FATAL</td>\n",
       "    </tr>\n",
       "    <tr>\n",
       "      <th>715</th>\n",
       "      <td>2021-0095</td>\n",
       "      <td>CONDUCTOR</td>\n",
       "      <td>MASCULINO</td>\n",
       "      <td>27</td>\n",
       "      <td>FATAL</td>\n",
       "    </tr>\n",
       "    <tr>\n",
       "      <th>716</th>\n",
       "      <td>2021-0096</td>\n",
       "      <td>CONDUCTOR</td>\n",
       "      <td>MASCULINO</td>\n",
       "      <td>60</td>\n",
       "      <td>FATAL</td>\n",
       "    </tr>\n",
       "  </tbody>\n",
       "</table>\n",
       "</div>"
      ],
      "text/plain": [
       "    ID_siniestro          Rol_vehiculo       Sexo  Edad gravedad\n",
       "712    2021-0092                PEATON   FEMENINO    50    FATAL\n",
       "713    2021-0093  PASAJERO_ACOMPAÑANTE   FEMENINO    18    FATAL\n",
       "714    2021-0094  PASAJERO_ACOMPAÑANTE   FEMENINO    43    FATAL\n",
       "715    2021-0095             CONDUCTOR  MASCULINO    27    FATAL\n",
       "716    2021-0096             CONDUCTOR  MASCULINO    60    FATAL"
      ]
     },
     "execution_count": 36,
     "metadata": {},
     "output_type": "execute_result"
    }
   ],
   "source": [
    "df2.tail()"
   ]
  },
  {
   "cell_type": "markdown",
   "metadata": {},
   "source": [
    "#### 2.3 Lesiones - Hechos\n",
    "Se explora la data del archivo `lesiones.xlsx` específicamente la hoja HECHOS."
   ]
  },
  {
   "cell_type": "code",
   "execution_count": 37,
   "metadata": {},
   "outputs": [
    {
     "name": "stdout",
     "output_type": "stream",
     "text": [
      "(23785, 27)\n"
     ]
    },
    {
     "data": {
      "text/html": [
       "<div>\n",
       "<style scoped>\n",
       "    .dataframe tbody tr th:only-of-type {\n",
       "        vertical-align: middle;\n",
       "    }\n",
       "\n",
       "    .dataframe tbody tr th {\n",
       "        vertical-align: top;\n",
       "    }\n",
       "\n",
       "    .dataframe thead th {\n",
       "        text-align: right;\n",
       "    }\n",
       "</style>\n",
       "<table border=\"1\" class=\"dataframe\">\n",
       "  <thead>\n",
       "    <tr style=\"text-align: right;\">\n",
       "      <th></th>\n",
       "      <th>id</th>\n",
       "      <th>n_victimas</th>\n",
       "      <th>aaaa</th>\n",
       "      <th>mm</th>\n",
       "      <th>dd</th>\n",
       "      <th>fecha</th>\n",
       "      <th>hora</th>\n",
       "      <th>franja_hora</th>\n",
       "      <th>direccion_normalizada</th>\n",
       "      <th>comuna</th>\n",
       "      <th>...</th>\n",
       "      <th>latutid</th>\n",
       "      <th>victima</th>\n",
       "      <th>acusado</th>\n",
       "      <th>participantes</th>\n",
       "      <th>moto</th>\n",
       "      <th>auto</th>\n",
       "      <th>transporte_publico</th>\n",
       "      <th>camion</th>\n",
       "      <th>ciclista</th>\n",
       "      <th>gravedad</th>\n",
       "    </tr>\n",
       "  </thead>\n",
       "  <tbody>\n",
       "    <tr>\n",
       "      <th>0</th>\n",
       "      <td>LC-2019-0000179</td>\n",
       "      <td>1</td>\n",
       "      <td>2019</td>\n",
       "      <td>1</td>\n",
       "      <td>1</td>\n",
       "      <td>2019-01-01 00:00:00</td>\n",
       "      <td>09:00:00</td>\n",
       "      <td>9</td>\n",
       "      <td>SD</td>\n",
       "      <td>14</td>\n",
       "      <td>...</td>\n",
       "      <td>-34.559658</td>\n",
       "      <td>CICLISTA</td>\n",
       "      <td>SD</td>\n",
       "      <td>CICLISTA-SD</td>\n",
       "      <td>SD</td>\n",
       "      <td>SD</td>\n",
       "      <td>SD</td>\n",
       "      <td>SD</td>\n",
       "      <td>x</td>\n",
       "      <td>SD</td>\n",
       "    </tr>\n",
       "    <tr>\n",
       "      <th>1</th>\n",
       "      <td>LC-2019-0000053</td>\n",
       "      <td>1</td>\n",
       "      <td>2019</td>\n",
       "      <td>1</td>\n",
       "      <td>1</td>\n",
       "      <td>2019-01-01 00:00:00</td>\n",
       "      <td>01:55:00</td>\n",
       "      <td>1</td>\n",
       "      <td>SD</td>\n",
       "      <td>8</td>\n",
       "      <td>...</td>\n",
       "      <td>-34.669125</td>\n",
       "      <td>AUTO</td>\n",
       "      <td>SD</td>\n",
       "      <td>AUTO-SD</td>\n",
       "      <td>SD</td>\n",
       "      <td>x</td>\n",
       "      <td>SD</td>\n",
       "      <td>SD</td>\n",
       "      <td>SD</td>\n",
       "      <td>SD</td>\n",
       "    </tr>\n",
       "  </tbody>\n",
       "</table>\n",
       "<p>2 rows × 27 columns</p>\n",
       "</div>"
      ],
      "text/plain": [
       "                id  n_victimas  aaaa  mm  dd                fecha      hora  \\\n",
       "0  LC-2019-0000179           1  2019   1   1  2019-01-01 00:00:00  09:00:00   \n",
       "1  LC-2019-0000053           1  2019   1   1  2019-01-01 00:00:00  01:55:00   \n",
       "\n",
       "  franja_hora direccion_normalizada comuna  ...     latutid   victima acusado  \\\n",
       "0           9                    SD     14  ...  -34.559658  CICLISTA      SD   \n",
       "1           1                    SD      8  ...  -34.669125      AUTO      SD   \n",
       "\n",
       "   participantes moto auto transporte_publico camion ciclista gravedad  \n",
       "0    CICLISTA-SD   SD   SD                 SD     SD        x       SD  \n",
       "1        AUTO-SD   SD    x                 SD     SD       SD       SD  \n",
       "\n",
       "[2 rows x 27 columns]"
      ]
     },
     "execution_count": 37,
     "metadata": {},
     "output_type": "execute_result"
    }
   ],
   "source": [
    "df_lesiones_hechos = df_lesiones['HECHOS']\n",
    "print(df_lesiones_hechos.shape)\n",
    "df_lesiones_hechos.head(2)"
   ]
  },
  {
   "cell_type": "code",
   "execution_count": 38,
   "metadata": {},
   "outputs": [
    {
     "name": "stdout",
     "output_type": "stream",
     "text": [
      "<class 'pandas.core.frame.DataFrame'>\n",
      "RangeIndex: 23785 entries, 0 to 23784\n",
      "Data columns (total 27 columns):\n",
      " #   Column                 Non-Null Count  Dtype  \n",
      "---  ------                 --------------  -----  \n",
      " 0   id                     23785 non-null  object \n",
      " 1   n_victimas             23785 non-null  int64  \n",
      " 2   aaaa                   23785 non-null  int64  \n",
      " 3   mm                     23785 non-null  int64  \n",
      " 4   dd                     23785 non-null  int64  \n",
      " 5   fecha                  23785 non-null  object \n",
      " 6   hora                   23785 non-null  object \n",
      " 7   franja_hora            23780 non-null  object \n",
      " 8   direccion_normalizada  23732 non-null  object \n",
      " 9   comuna                 23616 non-null  object \n",
      " 10  tipo_calle             23785 non-null  object \n",
      " 11  otra_direccion         23785 non-null  object \n",
      " 12  calle                  12867 non-null  object \n",
      " 13  altura                 12771 non-null  float64\n",
      " 14  cruce                  9407 non-null   object \n",
      " 15  geocodificacion_CABA   23746 non-null  object \n",
      " 16  longitud               23523 non-null  object \n",
      " 17  latutid                23523 non-null  object \n",
      " 18  victima                23785 non-null  object \n",
      " 19  acusado                23785 non-null  object \n",
      " 20  participantes          23785 non-null  object \n",
      " 21  moto                   23692 non-null  object \n",
      " 22  auto                   23692 non-null  object \n",
      " 23  transporte_publico     23692 non-null  object \n",
      " 24  camion                 23692 non-null  object \n",
      " 25  ciclista               23692 non-null  object \n",
      " 26  gravedad               23785 non-null  object \n",
      "dtypes: float64(1), int64(4), object(22)\n",
      "memory usage: 4.9+ MB\n"
     ]
    }
   ],
   "source": [
    "df_lesiones_hechos.info()"
   ]
  },
  {
   "cell_type": "markdown",
   "metadata": {},
   "source": [
    "De las 27 columnas, 10 tienen valores nulos ('franja_hora', 'direccion_normalizada', 'comuna', 'calle', 'altura', 'cruce', 'ciclista', 'geocodificacion_CABA', 'longitud', 'latutid'). Nota: Algunos valores en las columnas son SD: Sin Dato. Se considera como NaN."
   ]
  },
  {
   "cell_type": "code",
   "execution_count": 39,
   "metadata": {},
   "outputs": [],
   "source": [
    "# Backup\n",
    "df3 = df_lesiones_hechos.copy()"
   ]
  },
  {
   "cell_type": "markdown",
   "metadata": {},
   "source": [
    "Estandarizamos nulos"
   ]
  },
  {
   "cell_type": "code",
   "execution_count": 40,
   "metadata": {},
   "outputs": [],
   "source": [
    "# Reemplaza 'SD' por NaN en todo el DataFrame\n",
    "df3.replace(['SD','sd'], np.nan, inplace=True)\n"
   ]
  },
  {
   "cell_type": "code",
   "execution_count": 41,
   "metadata": {},
   "outputs": [
    {
     "name": "stdout",
     "output_type": "stream",
     "text": [
      "Columnas con valores nulos:\n",
      "hora                         9\n",
      "franja_hora                  9\n",
      "direccion_normalizada    10868\n",
      "comuna                    1015\n",
      "tipo_calle               11045\n",
      "otra_direccion           18295\n",
      "calle                    10918\n",
      "altura                   11014\n",
      "cruce                    14378\n",
      "geocodificacion_CABA      1252\n",
      "longitud                  1471\n",
      "latutid                   1471\n",
      "victima                  10733\n",
      "acusado                  15288\n",
      "moto                      8604\n",
      "auto                     12636\n",
      "transporte_publico       11894\n",
      "camion                   12801\n",
      "ciclista                 11446\n",
      "gravedad                 23139\n",
      "dtype: int64\n"
     ]
    }
   ],
   "source": [
    "# Contamos los valores nulos\n",
    "columnas_con_nulos = df3.isnull().sum()\n",
    "\n",
    "# Filtra solo las columnas que tienen al menos un valor nulo\n",
    "columnas_con_nulos = columnas_con_nulos[columnas_con_nulos > 0]\n",
    "print(\"Columnas con valores nulos:\")\n",
    "print(columnas_con_nulos)"
   ]
  },
  {
   "cell_type": "markdown",
   "metadata": {},
   "source": [
    "LIMPIEZA Y PREPROCESAMIENTO DE LOS DATOS"
   ]
  },
  {
   "cell_type": "markdown",
   "metadata": {},
   "source": [
    "Eliminamos columnas con la misma información: Quitamos algunas columnas que nos brinda la misma información, se busca mejorar el renidmiento y reducir redundancia:\n",
    "\n",
    "|Columnas a eliminar|Justificación|\n",
    "|----|----|\n",
    "|'aaaa', 'mm', 'dd'| Esta información se encuentra también en la variable 'fecha'|\n",
    "|'hora'|Esta información se encuentra en franja_hora. En este caso nos centraremos en la franja horaria entera|\n",
    "|'direccion_normalizada','cruce','calle'|Se usa coordenadas para definir la ubicacion en su lugar|\n",
    "|'otra_direccion','altura','geocodificacion_CABA'| Se usa coordenadas para definir la ubicacion en su lugar |"
   ]
  },
  {
   "cell_type": "code",
   "execution_count": 42,
   "metadata": {},
   "outputs": [],
   "source": [
    "columnas_a_eliminar =[\"aaaa\",\"mm\",\"dd\",\"hora\",\"altura\",\"direccion_normalizada\",\"otra_direccion\",\"calle\",\"cruce\",\"geocodificacion_CABA\",\"participantes\"]\n",
    "df3.drop(columnas_a_eliminar, axis=1, inplace=True)\n"
   ]
  },
  {
   "cell_type": "markdown",
   "metadata": {},
   "source": [
    "Reemplazamos los datos con 1 para indicar participación del vehículo"
   ]
  },
  {
   "cell_type": "code",
   "execution_count": 43,
   "metadata": {},
   "outputs": [],
   "source": [
    "# Supongamos que df es tu DataFrame\n",
    "columnas_a_reemplazar = ['moto', 'auto', 'camion', 'ciclista', 'transporte_publico']\n",
    "\n",
    "# Reemplaza 'x' por 1 en las columnas seleccionadas\n",
    "df3[columnas_a_reemplazar] = df3[columnas_a_reemplazar].replace('x', 1)"
   ]
  },
  {
   "cell_type": "markdown",
   "metadata": {},
   "source": [
    "Renombramos columnas"
   ]
  },
  {
   "cell_type": "code",
   "execution_count": 44,
   "metadata": {},
   "outputs": [],
   "source": [
    "# Para mejorar la consistencia y la legibilidad de los nombres de las columnas en un conjunto de datos.\n",
    "nuevos_nombres = {'id': 'ID_siniestro', 'n_victimas': 'Nro_victimas', 'fecha':'Fecha','franja_hora':'Franja_horaria','comuna':'Comuna','tipo_calle':'Tipo_calle','longitud': 'Longitud','latutid':'Latitud','victima':'Vehiculo_Victima','acusado':'Vehiculo_Acusado' }\n",
    "df3.rename(columns=nuevos_nombres, inplace=True)"
   ]
  },
  {
   "cell_type": "code",
   "execution_count": 45,
   "metadata": {},
   "outputs": [],
   "source": [
    "#Estandarizamos la representación de los nulos en el dataframe\n",
    "df3 = df3.fillna(value=np.nan) #df3.isnull().sum()"
   ]
  },
  {
   "cell_type": "markdown",
   "metadata": {},
   "source": [
    "Normalizamos valores"
   ]
  },
  {
   "cell_type": "markdown",
   "metadata": {},
   "source": [
    "* Variable: gravedad"
   ]
  },
  {
   "cell_type": "code",
   "execution_count": 46,
   "metadata": {},
   "outputs": [],
   "source": [
    "df3['gravedad'] = df3['gravedad'].replace('grave', 'GRAVE')"
   ]
  },
  {
   "cell_type": "code",
   "execution_count": 47,
   "metadata": {},
   "outputs": [],
   "source": [
    "df3['gravedad'].fillna('LEVE', inplace=True)"
   ]
  },
  {
   "cell_type": "code",
   "execution_count": 48,
   "metadata": {},
   "outputs": [
    {
     "data": {
      "text/plain": [
       "array(['LEVE', 'GRAVE', 'FATAL'], dtype=object)"
      ]
     },
     "execution_count": 48,
     "metadata": {},
     "output_type": "execute_result"
    }
   ],
   "source": [
    "df3['gravedad'].unique() # 3 tipos segun el diccionario de hechos"
   ]
  },
  {
   "cell_type": "markdown",
   "metadata": {},
   "source": [
    "* Variable: Comuna"
   ]
  },
  {
   "cell_type": "code",
   "execution_count": 49,
   "metadata": {},
   "outputs": [
    {
     "data": {
      "text/plain": [
       "array([14, 8, 7, 3, 15, 11, 9, 1, 4, 12, 2, 5, 6, 13, 10,\n",
       "       'No Especificada', nan], dtype=object)"
      ]
     },
     "execution_count": 49,
     "metadata": {},
     "output_type": "execute_result"
    }
   ],
   "source": [
    "df3['Comuna'].unique()"
   ]
  },
  {
   "cell_type": "code",
   "execution_count": 50,
   "metadata": {},
   "outputs": [],
   "source": [
    "df3['Comuna'].replace('No Especificada', np.nan, inplace=True)"
   ]
  },
  {
   "cell_type": "markdown",
   "metadata": {},
   "source": [
    "* Variable: Nro_victimas"
   ]
  },
  {
   "cell_type": "code",
   "execution_count": 51,
   "metadata": {},
   "outputs": [
    {
     "data": {
      "text/plain": [
       "array([ 1,  4,  2,  3,  5, 10,  6, 16,  8,  0,  7], dtype=int64)"
      ]
     },
     "execution_count": 51,
     "metadata": {},
     "output_type": "execute_result"
    }
   ],
   "source": [
    "df3['Nro_victimas'].unique()"
   ]
  },
  {
   "cell_type": "code",
   "execution_count": 52,
   "metadata": {},
   "outputs": [
    {
     "data": {
      "text/html": [
       "<div>\n",
       "<style scoped>\n",
       "    .dataframe tbody tr th:only-of-type {\n",
       "        vertical-align: middle;\n",
       "    }\n",
       "\n",
       "    .dataframe tbody tr th {\n",
       "        vertical-align: top;\n",
       "    }\n",
       "\n",
       "    .dataframe thead th {\n",
       "        text-align: right;\n",
       "    }\n",
       "</style>\n",
       "<table border=\"1\" class=\"dataframe\">\n",
       "  <thead>\n",
       "    <tr style=\"text-align: right;\">\n",
       "      <th></th>\n",
       "      <th>ID_siniestro</th>\n",
       "      <th>Nro_victimas</th>\n",
       "      <th>Fecha</th>\n",
       "      <th>Franja_horaria</th>\n",
       "      <th>Comuna</th>\n",
       "      <th>Tipo_calle</th>\n",
       "      <th>Longitud</th>\n",
       "      <th>Latitud</th>\n",
       "      <th>Vehiculo_Victima</th>\n",
       "      <th>Vehiculo_Acusado</th>\n",
       "      <th>moto</th>\n",
       "      <th>auto</th>\n",
       "      <th>transporte_publico</th>\n",
       "      <th>camion</th>\n",
       "      <th>ciclista</th>\n",
       "      <th>gravedad</th>\n",
       "    </tr>\n",
       "  </thead>\n",
       "  <tbody>\n",
       "    <tr>\n",
       "      <th>9928</th>\n",
       "      <td>PNA-2019-0005246</td>\n",
       "      <td>0</td>\n",
       "      <td>2019-12-20 00:00:00</td>\n",
       "      <td>NaN</td>\n",
       "      <td>NaN</td>\n",
       "      <td>NaN</td>\n",
       "      <td>NaN</td>\n",
       "      <td>NaN</td>\n",
       "      <td>NaN</td>\n",
       "      <td>NaN</td>\n",
       "      <td>NaN</td>\n",
       "      <td>NaN</td>\n",
       "      <td>NaN</td>\n",
       "      <td>NaN</td>\n",
       "      <td>NaN</td>\n",
       "      <td>LEVE</td>\n",
       "    </tr>\n",
       "  </tbody>\n",
       "</table>\n",
       "</div>"
      ],
      "text/plain": [
       "          ID_siniestro  Nro_victimas                Fecha  Franja_horaria  \\\n",
       "9928  PNA-2019-0005246             0  2019-12-20 00:00:00             NaN   \n",
       "\n",
       "      Comuna Tipo_calle Longitud Latitud Vehiculo_Victima Vehiculo_Acusado  \\\n",
       "9928     NaN        NaN      NaN     NaN              NaN              NaN   \n",
       "\n",
       "      moto  auto  transporte_publico  camion  ciclista gravedad  \n",
       "9928   NaN   NaN                 NaN     NaN       NaN     LEVE  "
      ]
     },
     "execution_count": 52,
     "metadata": {},
     "output_type": "execute_result"
    }
   ],
   "source": [
    "df3[df3['Nro_victimas']==0]"
   ]
  },
  {
   "cell_type": "code",
   "execution_count": 53,
   "metadata": {},
   "outputs": [],
   "source": [
    "df3.loc[df3['ID_siniestro'] == 'PNA-2019-0005246', 'Nro_victimas'] = 1 # Le damos el valor de 1 por tener una victima\n"
   ]
  },
  {
   "cell_type": "markdown",
   "metadata": {},
   "source": [
    "* Variable: Ciclista"
   ]
  },
  {
   "cell_type": "code",
   "execution_count": 54,
   "metadata": {},
   "outputs": [],
   "source": [
    "# segun el diccionario de datos: \n",
    "# es CICLISTA si hay participación de algún ciclista, sea víctima u acusado\n",
    "\n",
    "# Filtrar según las condiciones \n",
    "filtro = (df3['Vehiculo_Victima'] == 'CICLISTA') | (df3['Vehiculo_Acusado'] == 'CICLISTA') & pd.isna(df3['ciclista'])\n",
    "\n",
    "# Reemplazar los valores nulos por 1\n",
    "df3.loc[filtro, 'ciclista'] = df3.loc[filtro, 'ciclista'].fillna(1)"
   ]
  },
  {
   "cell_type": "markdown",
   "metadata": {},
   "source": [
    "Establecemos formato de las columnas"
   ]
  },
  {
   "cell_type": "code",
   "execution_count": 55,
   "metadata": {},
   "outputs": [],
   "source": [
    "df3['Franja_horaria'] = pd.to_numeric(df3['Franja_horaria'], errors='coerce').astype('Int64')\n",
    "df3['Comuna'] = pd.to_numeric(df3['Comuna'], errors='coerce').astype('Int64')\n",
    "\n",
    "df3['Franja_horaria'] = df3['Franja_horaria'].astype('category')\n",
    "df3['Tipo_calle'] = df3['Tipo_calle'].astype('category')\n",
    "df3['Comuna'] = df3['Comuna'].astype('category')\n",
    "df3['Vehiculo_Victima'] = df3['Vehiculo_Victima'].astype('category')\n",
    "df3['Vehiculo_Acusado'] = df3['Vehiculo_Acusado'].astype('category')"
   ]
  },
  {
   "cell_type": "code",
   "execution_count": 56,
   "metadata": {},
   "outputs": [
    {
     "name": "stdout",
     "output_type": "stream",
     "text": [
      "<class 'pandas.core.frame.DataFrame'>\n",
      "RangeIndex: 23785 entries, 0 to 23784\n",
      "Data columns (total 16 columns):\n",
      " #   Column              Non-Null Count  Dtype   \n",
      "---  ------              --------------  -----   \n",
      " 0   ID_siniestro        23785 non-null  object  \n",
      " 1   Nro_victimas        23785 non-null  int64   \n",
      " 2   Fecha               23785 non-null  object  \n",
      " 3   Franja_horaria      23776 non-null  category\n",
      " 4   Comuna              22328 non-null  category\n",
      " 5   Tipo_calle          12740 non-null  category\n",
      " 6   Longitud            22314 non-null  object  \n",
      " 7   Latitud             22314 non-null  object  \n",
      " 8   Vehiculo_Victima    13052 non-null  category\n",
      " 9   Vehiculo_Acusado    8497 non-null   category\n",
      " 10  moto                15181 non-null  float64 \n",
      " 11  auto                11149 non-null  float64 \n",
      " 12  transporte_publico  11891 non-null  float64 \n",
      " 13  camion              10984 non-null  float64 \n",
      " 14  ciclista            12363 non-null  float64 \n",
      " 15  gravedad            23785 non-null  object  \n",
      "dtypes: category(5), float64(5), int64(1), object(5)\n",
      "memory usage: 2.1+ MB\n"
     ]
    }
   ],
   "source": [
    "df3.info()"
   ]
  },
  {
   "cell_type": "code",
   "execution_count": 57,
   "metadata": {},
   "outputs": [
    {
     "data": {
      "text/html": [
       "<div>\n",
       "<style scoped>\n",
       "    .dataframe tbody tr th:only-of-type {\n",
       "        vertical-align: middle;\n",
       "    }\n",
       "\n",
       "    .dataframe tbody tr th {\n",
       "        vertical-align: top;\n",
       "    }\n",
       "\n",
       "    .dataframe thead th {\n",
       "        text-align: right;\n",
       "    }\n",
       "</style>\n",
       "<table border=\"1\" class=\"dataframe\">\n",
       "  <thead>\n",
       "    <tr style=\"text-align: right;\">\n",
       "      <th></th>\n",
       "      <th>ID_siniestro</th>\n",
       "      <th>Nro_victimas</th>\n",
       "      <th>Fecha</th>\n",
       "      <th>Franja_horaria</th>\n",
       "      <th>Comuna</th>\n",
       "      <th>Tipo_calle</th>\n",
       "      <th>Longitud</th>\n",
       "      <th>Latitud</th>\n",
       "      <th>Vehiculo_Victima</th>\n",
       "      <th>Vehiculo_Acusado</th>\n",
       "      <th>moto</th>\n",
       "      <th>auto</th>\n",
       "      <th>transporte_publico</th>\n",
       "      <th>camion</th>\n",
       "      <th>ciclista</th>\n",
       "      <th>gravedad</th>\n",
       "    </tr>\n",
       "  </thead>\n",
       "  <tbody>\n",
       "    <tr>\n",
       "      <th>0</th>\n",
       "      <td>LC-2019-0000179</td>\n",
       "      <td>1</td>\n",
       "      <td>2019-01-01 00:00:00</td>\n",
       "      <td>9</td>\n",
       "      <td>14</td>\n",
       "      <td>NaN</td>\n",
       "      <td>-58.408911</td>\n",
       "      <td>-34.559658</td>\n",
       "      <td>CICLISTA</td>\n",
       "      <td>NaN</td>\n",
       "      <td>NaN</td>\n",
       "      <td>NaN</td>\n",
       "      <td>NaN</td>\n",
       "      <td>NaN</td>\n",
       "      <td>1.0</td>\n",
       "      <td>LEVE</td>\n",
       "    </tr>\n",
       "    <tr>\n",
       "      <th>1</th>\n",
       "      <td>LC-2019-0000053</td>\n",
       "      <td>1</td>\n",
       "      <td>2019-01-01 00:00:00</td>\n",
       "      <td>1</td>\n",
       "      <td>8</td>\n",
       "      <td>NaN</td>\n",
       "      <td>-58.44351</td>\n",
       "      <td>-34.669125</td>\n",
       "      <td>AUTO</td>\n",
       "      <td>NaN</td>\n",
       "      <td>NaN</td>\n",
       "      <td>1.0</td>\n",
       "      <td>NaN</td>\n",
       "      <td>NaN</td>\n",
       "      <td>NaN</td>\n",
       "      <td>LEVE</td>\n",
       "    </tr>\n",
       "    <tr>\n",
       "      <th>2</th>\n",
       "      <td>LC-2019-0000063</td>\n",
       "      <td>1</td>\n",
       "      <td>2019-01-01 00:00:00</td>\n",
       "      <td>2</td>\n",
       "      <td>8</td>\n",
       "      <td>NaN</td>\n",
       "      <td>-58.468335</td>\n",
       "      <td>-34.677556</td>\n",
       "      <td>NaN</td>\n",
       "      <td>NaN</td>\n",
       "      <td>NaN</td>\n",
       "      <td>NaN</td>\n",
       "      <td>NaN</td>\n",
       "      <td>NaN</td>\n",
       "      <td>NaN</td>\n",
       "      <td>LEVE</td>\n",
       "    </tr>\n",
       "    <tr>\n",
       "      <th>3</th>\n",
       "      <td>LC-2019-0000079</td>\n",
       "      <td>1</td>\n",
       "      <td>2019-01-01 00:00:00</td>\n",
       "      <td>2</td>\n",
       "      <td>7</td>\n",
       "      <td>NaN</td>\n",
       "      <td>-58.437425</td>\n",
       "      <td>-34.647349</td>\n",
       "      <td>PEATON</td>\n",
       "      <td>NaN</td>\n",
       "      <td>1.0</td>\n",
       "      <td>NaN</td>\n",
       "      <td>NaN</td>\n",
       "      <td>NaN</td>\n",
       "      <td>NaN</td>\n",
       "      <td>LEVE</td>\n",
       "    </tr>\n",
       "    <tr>\n",
       "      <th>4</th>\n",
       "      <td>LC-2019-0000082</td>\n",
       "      <td>4</td>\n",
       "      <td>2019-01-01 00:00:00</td>\n",
       "      <td>4</td>\n",
       "      <td>3</td>\n",
       "      <td>NaN</td>\n",
       "      <td>-58.398225</td>\n",
       "      <td>-34.604579</td>\n",
       "      <td>AUTO</td>\n",
       "      <td>NaN</td>\n",
       "      <td>NaN</td>\n",
       "      <td>NaN</td>\n",
       "      <td>1.0</td>\n",
       "      <td>NaN</td>\n",
       "      <td>NaN</td>\n",
       "      <td>LEVE</td>\n",
       "    </tr>\n",
       "  </tbody>\n",
       "</table>\n",
       "</div>"
      ],
      "text/plain": [
       "      ID_siniestro  Nro_victimas                Fecha Franja_horaria Comuna  \\\n",
       "0  LC-2019-0000179             1  2019-01-01 00:00:00              9     14   \n",
       "1  LC-2019-0000053             1  2019-01-01 00:00:00              1      8   \n",
       "2  LC-2019-0000063             1  2019-01-01 00:00:00              2      8   \n",
       "3  LC-2019-0000079             1  2019-01-01 00:00:00              2      7   \n",
       "4  LC-2019-0000082             4  2019-01-01 00:00:00              4      3   \n",
       "\n",
       "  Tipo_calle    Longitud     Latitud Vehiculo_Victima Vehiculo_Acusado  moto  \\\n",
       "0        NaN  -58.408911  -34.559658         CICLISTA              NaN   NaN   \n",
       "1        NaN   -58.44351  -34.669125             AUTO              NaN   NaN   \n",
       "2        NaN  -58.468335  -34.677556              NaN              NaN   NaN   \n",
       "3        NaN  -58.437425  -34.647349           PEATON              NaN   1.0   \n",
       "4        NaN  -58.398225  -34.604579             AUTO              NaN   NaN   \n",
       "\n",
       "   auto  transporte_publico  camion  ciclista gravedad  \n",
       "0   NaN                 NaN     NaN       1.0     LEVE  \n",
       "1   1.0                 NaN     NaN       NaN     LEVE  \n",
       "2   NaN                 NaN     NaN       NaN     LEVE  \n",
       "3   NaN                 NaN     NaN       NaN     LEVE  \n",
       "4   NaN                 1.0     NaN       NaN     LEVE  "
      ]
     },
     "execution_count": 57,
     "metadata": {},
     "output_type": "execute_result"
    }
   ],
   "source": [
    "df3.head()"
   ]
  },
  {
   "cell_type": "markdown",
   "metadata": {},
   "source": [
    "#### 2.4 Lesiones - Victimas\n",
    "Se explora la data del archivo `lesiones.xlsx` específicamente la hoja VICTIMAS."
   ]
  },
  {
   "cell_type": "code",
   "execution_count": 58,
   "metadata": {},
   "outputs": [
    {
     "name": "stdout",
     "output_type": "stream",
     "text": [
      "(27605, 9)\n"
     ]
    },
    {
     "data": {
      "text/html": [
       "<div>\n",
       "<style scoped>\n",
       "    .dataframe tbody tr th:only-of-type {\n",
       "        vertical-align: middle;\n",
       "    }\n",
       "\n",
       "    .dataframe tbody tr th {\n",
       "        vertical-align: top;\n",
       "    }\n",
       "\n",
       "    .dataframe thead th {\n",
       "        text-align: right;\n",
       "    }\n",
       "</style>\n",
       "<table border=\"1\" class=\"dataframe\">\n",
       "  <thead>\n",
       "    <tr style=\"text-align: right;\">\n",
       "      <th></th>\n",
       "      <th>ID hecho</th>\n",
       "      <th>AAA</th>\n",
       "      <th>MM</th>\n",
       "      <th>DD</th>\n",
       "      <th>FECHA</th>\n",
       "      <th>VEHICULO_VICTIMA</th>\n",
       "      <th>SEXO</th>\n",
       "      <th>EDAD_VICTIMA</th>\n",
       "      <th>GRAVEDAD</th>\n",
       "    </tr>\n",
       "  </thead>\n",
       "  <tbody>\n",
       "    <tr>\n",
       "      <th>0</th>\n",
       "      <td>LC-2019-0000053</td>\n",
       "      <td>2019</td>\n",
       "      <td>1</td>\n",
       "      <td>1</td>\n",
       "      <td>2019-01-01</td>\n",
       "      <td>sd</td>\n",
       "      <td>Varon</td>\n",
       "      <td>57</td>\n",
       "      <td>SD</td>\n",
       "    </tr>\n",
       "    <tr>\n",
       "      <th>1</th>\n",
       "      <td>LC-2019-0000063</td>\n",
       "      <td>2019</td>\n",
       "      <td>1</td>\n",
       "      <td>1</td>\n",
       "      <td>2019-01-01</td>\n",
       "      <td>sd</td>\n",
       "      <td>SD</td>\n",
       "      <td>SD</td>\n",
       "      <td>SD</td>\n",
       "    </tr>\n",
       "  </tbody>\n",
       "</table>\n",
       "</div>"
      ],
      "text/plain": [
       "          ID hecho   AAA  MM  DD     FECHA  VEHICULO_VICTIMA   SEXO  \\\n",
       "0  LC-2019-0000053  2019   1   1 2019-01-01               sd  Varon   \n",
       "1  LC-2019-0000063  2019   1   1 2019-01-01               sd     SD   \n",
       "\n",
       "  EDAD_VICTIMA GRAVEDAD  \n",
       "0           57       SD  \n",
       "1           SD       SD  "
      ]
     },
     "execution_count": 58,
     "metadata": {},
     "output_type": "execute_result"
    }
   ],
   "source": [
    "df_lesiones_victimas = df_lesiones['VICTIMAS']\n",
    "print(df_lesiones_victimas.shape)\n",
    "df_lesiones_victimas.head(2)"
   ]
  },
  {
   "cell_type": "markdown",
   "metadata": {},
   "source": [
    "Vemos el resumen del dataframe"
   ]
  },
  {
   "cell_type": "code",
   "execution_count": 59,
   "metadata": {},
   "outputs": [
    {
     "name": "stdout",
     "output_type": "stream",
     "text": [
      "<class 'pandas.core.frame.DataFrame'>\n",
      "RangeIndex: 27605 entries, 0 to 27604\n",
      "Data columns (total 9 columns):\n",
      " #   Column            Non-Null Count  Dtype         \n",
      "---  ------            --------------  -----         \n",
      " 0   ID hecho          27605 non-null  object        \n",
      " 1   AAA               27605 non-null  int64         \n",
      " 2   MM                27605 non-null  int64         \n",
      " 3   DD                27605 non-null  int64         \n",
      " 4   FECHA             27605 non-null  datetime64[ns]\n",
      " 5   VEHICULO_VICTIMA  27605 non-null  object        \n",
      " 6   SEXO              27605 non-null  object        \n",
      " 7   EDAD_VICTIMA      27605 non-null  object        \n",
      " 8   GRAVEDAD          27605 non-null  object        \n",
      "dtypes: datetime64[ns](1), int64(3), object(5)\n",
      "memory usage: 1.9+ MB\n"
     ]
    }
   ],
   "source": [
    "df_lesiones_victimas.info()"
   ]
  },
  {
   "cell_type": "code",
   "execution_count": 60,
   "metadata": {},
   "outputs": [],
   "source": [
    "df4 = df_lesiones_victimas.copy()"
   ]
  },
  {
   "cell_type": "code",
   "execution_count": 61,
   "metadata": {},
   "outputs": [],
   "source": [
    "# Reemplaza 'SD' por NaN en todo el DataFrame\n",
    "df4.replace(['SD','sd'], np.nan, inplace=True)\n"
   ]
  },
  {
   "cell_type": "markdown",
   "metadata": {},
   "source": [
    "Normalizamos nombres"
   ]
  },
  {
   "cell_type": "code",
   "execution_count": 62,
   "metadata": {},
   "outputs": [],
   "source": [
    "# Reemplazar 'VARON' por 'Masculino' y 'Mujer' por 'Femenino'\n",
    "df4['SEXO'] = df4['SEXO'].str.lower().str.strip().replace({'varon': 'MASCULINO', 'mujer': 'FEMENINO'})"
   ]
  },
  {
   "cell_type": "code",
   "execution_count": 63,
   "metadata": {},
   "outputs": [
    {
     "data": {
      "text/plain": [
       "array(['MASCULINO', nan, 'FEMENINO'], dtype=object)"
      ]
     },
     "execution_count": 63,
     "metadata": {},
     "output_type": "execute_result"
    }
   ],
   "source": [
    "df4['SEXO'].unique()"
   ]
  },
  {
   "cell_type": "markdown",
   "metadata": {},
   "source": [
    "LIMPIEZA Y PREPROCESAMIENTO DE LOS DATOS"
   ]
  },
  {
   "cell_type": "markdown",
   "metadata": {},
   "source": [
    "Eliminamos columnas con la misma información: Quitamos algunas columnas que nos brinda la misma información, se busca mejorar el renidmiento y reducir redundancia:\n",
    "\n",
    "|Columnas a eliminar|Justificación|\n",
    "|----|----|\n",
    "|'aaaa', 'mm', 'dd'| Esta información se encuentra también en la variable 'fecha'|\n",
    "|'GRAVEDAD','VEHICULO_VICTIMA'| Contine nulos y la información ya se encuentra en HECHOS|"
   ]
  },
  {
   "cell_type": "code",
   "execution_count": 64,
   "metadata": {},
   "outputs": [],
   "source": [
    "columnas_a_eliminar =[\"AAA\",\"MM\",\"DD\",\"VEHICULO_VICTIMA\",\"GRAVEDAD\",\"FECHA \"]\n",
    "df4.drop(columnas_a_eliminar, axis=1, inplace=True)\n"
   ]
  },
  {
   "cell_type": "markdown",
   "metadata": {},
   "source": [
    "Renombramos columnas"
   ]
  },
  {
   "cell_type": "code",
   "execution_count": 65,
   "metadata": {},
   "outputs": [],
   "source": [
    "# Para mejorar la consistencia y la legibilidad de los nombres de las columnas en un conjunto de datos.\n",
    "nuevos_nombres = {'ID hecho': 'ID_siniestro', 'SEXO':'Sexo','EDAD_VICTIMA':'Edad' }\n",
    "df4.rename(columns=nuevos_nombres, inplace=True)"
   ]
  },
  {
   "cell_type": "code",
   "execution_count": 66,
   "metadata": {},
   "outputs": [
    {
     "data": {
      "text/html": [
       "<div>\n",
       "<style scoped>\n",
       "    .dataframe tbody tr th:only-of-type {\n",
       "        vertical-align: middle;\n",
       "    }\n",
       "\n",
       "    .dataframe tbody tr th {\n",
       "        vertical-align: top;\n",
       "    }\n",
       "\n",
       "    .dataframe thead th {\n",
       "        text-align: right;\n",
       "    }\n",
       "</style>\n",
       "<table border=\"1\" class=\"dataframe\">\n",
       "  <thead>\n",
       "    <tr style=\"text-align: right;\">\n",
       "      <th></th>\n",
       "      <th>ID_siniestro</th>\n",
       "      <th>Sexo</th>\n",
       "      <th>Edad</th>\n",
       "    </tr>\n",
       "  </thead>\n",
       "  <tbody>\n",
       "    <tr>\n",
       "      <th>0</th>\n",
       "      <td>LC-2019-0000053</td>\n",
       "      <td>MASCULINO</td>\n",
       "      <td>57</td>\n",
       "    </tr>\n",
       "    <tr>\n",
       "      <th>1</th>\n",
       "      <td>LC-2019-0000063</td>\n",
       "      <td>NaN</td>\n",
       "      <td>NaN</td>\n",
       "    </tr>\n",
       "    <tr>\n",
       "      <th>2</th>\n",
       "      <td>LC-2019-0000079</td>\n",
       "      <td>MASCULINO</td>\n",
       "      <td>NaN</td>\n",
       "    </tr>\n",
       "    <tr>\n",
       "      <th>3</th>\n",
       "      <td>LC-2019-0000082</td>\n",
       "      <td>MASCULINO</td>\n",
       "      <td>45</td>\n",
       "    </tr>\n",
       "    <tr>\n",
       "      <th>4</th>\n",
       "      <td>LC-2019-0000082</td>\n",
       "      <td>FEMENINO</td>\n",
       "      <td>45</td>\n",
       "    </tr>\n",
       "  </tbody>\n",
       "</table>\n",
       "</div>"
      ],
      "text/plain": [
       "      ID_siniestro       Sexo Edad\n",
       "0  LC-2019-0000053  MASCULINO   57\n",
       "1  LC-2019-0000063        NaN  NaN\n",
       "2  LC-2019-0000079  MASCULINO  NaN\n",
       "3  LC-2019-0000082  MASCULINO   45\n",
       "4  LC-2019-0000082   FEMENINO   45"
      ]
     },
     "execution_count": 66,
     "metadata": {},
     "output_type": "execute_result"
    }
   ],
   "source": [
    "df4.head()"
   ]
  },
  {
   "cell_type": "markdown",
   "metadata": {},
   "source": [
    "Establecemos formato de las columnas"
   ]
  },
  {
   "cell_type": "code",
   "execution_count": 67,
   "metadata": {},
   "outputs": [],
   "source": [
    "df4['Sexo'] = df4['Sexo'].astype('category')\n",
    "df4['Edad'] = df4['Edad'].astype('category')"
   ]
  },
  {
   "cell_type": "markdown",
   "metadata": {},
   "source": [
    "Resumen"
   ]
  },
  {
   "cell_type": "code",
   "execution_count": 68,
   "metadata": {},
   "outputs": [
    {
     "name": "stdout",
     "output_type": "stream",
     "text": [
      "<class 'pandas.core.frame.DataFrame'>\n",
      "RangeIndex: 27605 entries, 0 to 27604\n",
      "Data columns (total 3 columns):\n",
      " #   Column        Non-Null Count  Dtype   \n",
      "---  ------        --------------  -----   \n",
      " 0   ID_siniestro  27605 non-null  object  \n",
      " 1   Sexo          25377 non-null  category\n",
      " 2   Edad          23134 non-null  category\n",
      "dtypes: category(2), object(1)\n",
      "memory usage: 302.3+ KB\n"
     ]
    }
   ],
   "source": [
    "df4.info()"
   ]
  },
  {
   "cell_type": "code",
   "execution_count": 69,
   "metadata": {},
   "outputs": [
    {
     "data": {
      "text/html": [
       "<div>\n",
       "<style scoped>\n",
       "    .dataframe tbody tr th:only-of-type {\n",
       "        vertical-align: middle;\n",
       "    }\n",
       "\n",
       "    .dataframe tbody tr th {\n",
       "        vertical-align: top;\n",
       "    }\n",
       "\n",
       "    .dataframe thead th {\n",
       "        text-align: right;\n",
       "    }\n",
       "</style>\n",
       "<table border=\"1\" class=\"dataframe\">\n",
       "  <thead>\n",
       "    <tr style=\"text-align: right;\">\n",
       "      <th></th>\n",
       "      <th>ID_siniestro</th>\n",
       "      <th>Sexo</th>\n",
       "      <th>Edad</th>\n",
       "    </tr>\n",
       "  </thead>\n",
       "  <tbody>\n",
       "    <tr>\n",
       "      <th>0</th>\n",
       "      <td>LC-2019-0000053</td>\n",
       "      <td>MASCULINO</td>\n",
       "      <td>57</td>\n",
       "    </tr>\n",
       "    <tr>\n",
       "      <th>1</th>\n",
       "      <td>LC-2019-0000063</td>\n",
       "      <td>NaN</td>\n",
       "      <td>NaN</td>\n",
       "    </tr>\n",
       "    <tr>\n",
       "      <th>2</th>\n",
       "      <td>LC-2019-0000079</td>\n",
       "      <td>MASCULINO</td>\n",
       "      <td>NaN</td>\n",
       "    </tr>\n",
       "    <tr>\n",
       "      <th>3</th>\n",
       "      <td>LC-2019-0000082</td>\n",
       "      <td>MASCULINO</td>\n",
       "      <td>45</td>\n",
       "    </tr>\n",
       "    <tr>\n",
       "      <th>4</th>\n",
       "      <td>LC-2019-0000082</td>\n",
       "      <td>FEMENINO</td>\n",
       "      <td>45</td>\n",
       "    </tr>\n",
       "  </tbody>\n",
       "</table>\n",
       "</div>"
      ],
      "text/plain": [
       "      ID_siniestro       Sexo Edad\n",
       "0  LC-2019-0000053  MASCULINO   57\n",
       "1  LC-2019-0000063        NaN  NaN\n",
       "2  LC-2019-0000079  MASCULINO  NaN\n",
       "3  LC-2019-0000082  MASCULINO   45\n",
       "4  LC-2019-0000082   FEMENINO   45"
      ]
     },
     "execution_count": 69,
     "metadata": {},
     "output_type": "execute_result"
    }
   ],
   "source": [
    "df4.head()"
   ]
  },
  {
   "cell_type": "markdown",
   "metadata": {},
   "source": [
    "### 3. Cargar\n",
    "En este paso se guarda los datos transformados en un formato csv y listos para su posterior análisis o uso."
   ]
  },
  {
   "cell_type": "markdown",
   "metadata": {},
   "source": [
    "Hasta el momento tenemos 4 dataframes trabajados: df1, df2, df3, df4\n",
    "\n",
    "* homicidios >> HECHOS     (df1)\n",
    "* homicidios >> VICTIMAS   (df2)\n",
    "* lesiones >> HECHOS       (df3)\n",
    "* lesiones >> VICTIMAS     (df4)"
   ]
  },
  {
   "cell_type": "code",
   "execution_count": 70,
   "metadata": {},
   "outputs": [],
   "source": [
    "# Consolidamos la información \n",
    "\n",
    "# Fusiona los DataFrames en base a la columna 'ID_siniestro'\n",
    "df_homicidios_final = pd.merge(df1, df2, on='ID_siniestro', how='left')\n",
    "df_lesiones_final = pd.merge(df3, df4, on='ID_siniestro', how='left')"
   ]
  },
  {
   "cell_type": "code",
   "execution_count": 71,
   "metadata": {},
   "outputs": [
    {
     "name": "stdout",
     "output_type": "stream",
     "text": [
      "(717, 14)\n"
     ]
    },
    {
     "data": {
      "text/html": [
       "<div>\n",
       "<style scoped>\n",
       "    .dataframe tbody tr th:only-of-type {\n",
       "        vertical-align: middle;\n",
       "    }\n",
       "\n",
       "    .dataframe tbody tr th {\n",
       "        vertical-align: top;\n",
       "    }\n",
       "\n",
       "    .dataframe thead th {\n",
       "        text-align: right;\n",
       "    }\n",
       "</style>\n",
       "<table border=\"1\" class=\"dataframe\">\n",
       "  <thead>\n",
       "    <tr style=\"text-align: right;\">\n",
       "      <th></th>\n",
       "      <th>ID_siniestro</th>\n",
       "      <th>Nro_victimas</th>\n",
       "      <th>Fecha</th>\n",
       "      <th>Franja_horaria</th>\n",
       "      <th>Tipo_calle</th>\n",
       "      <th>Comuna</th>\n",
       "      <th>Longitud</th>\n",
       "      <th>Latitud</th>\n",
       "      <th>Vehiculo_Victima</th>\n",
       "      <th>Vehiculo_Acusado</th>\n",
       "      <th>Rol_vehiculo</th>\n",
       "      <th>Sexo</th>\n",
       "      <th>Edad</th>\n",
       "      <th>gravedad</th>\n",
       "    </tr>\n",
       "  </thead>\n",
       "  <tbody>\n",
       "    <tr>\n",
       "      <th>0</th>\n",
       "      <td>2016-0001</td>\n",
       "      <td>1</td>\n",
       "      <td>2016-01-01</td>\n",
       "      <td>4</td>\n",
       "      <td>AVENIDA</td>\n",
       "      <td>8</td>\n",
       "      <td>-58.47533969</td>\n",
       "      <td>-34.68757022</td>\n",
       "      <td>MOTO</td>\n",
       "      <td>AUTO</td>\n",
       "      <td>CONDUCTOR</td>\n",
       "      <td>MASCULINO</td>\n",
       "      <td>19</td>\n",
       "      <td>FATAL</td>\n",
       "    </tr>\n",
       "    <tr>\n",
       "      <th>1</th>\n",
       "      <td>2016-0002</td>\n",
       "      <td>1</td>\n",
       "      <td>2016-01-02</td>\n",
       "      <td>1</td>\n",
       "      <td>GRAL PAZ</td>\n",
       "      <td>9</td>\n",
       "      <td>-58.50877521</td>\n",
       "      <td>-34.66977709</td>\n",
       "      <td>AUTO</td>\n",
       "      <td>PASAJEROS</td>\n",
       "      <td>CONDUCTOR</td>\n",
       "      <td>MASCULINO</td>\n",
       "      <td>70</td>\n",
       "      <td>FATAL</td>\n",
       "    </tr>\n",
       "  </tbody>\n",
       "</table>\n",
       "</div>"
      ],
      "text/plain": [
       "  ID_siniestro  Nro_victimas      Fecha Franja_horaria Tipo_calle Comuna  \\\n",
       "0    2016-0001             1 2016-01-01              4    AVENIDA      8   \n",
       "1    2016-0002             1 2016-01-02              1   GRAL PAZ      9   \n",
       "\n",
       "       Longitud       Latitud Vehiculo_Victima Vehiculo_Acusado Rol_vehiculo  \\\n",
       "0  -58.47533969  -34.68757022             MOTO             AUTO    CONDUCTOR   \n",
       "1  -58.50877521  -34.66977709             AUTO        PASAJEROS    CONDUCTOR   \n",
       "\n",
       "        Sexo  Edad gravedad  \n",
       "0  MASCULINO    19    FATAL  \n",
       "1  MASCULINO    70    FATAL  "
      ]
     },
     "execution_count": 71,
     "metadata": {},
     "output_type": "execute_result"
    }
   ],
   "source": [
    "print(df_homicidios_final.shape)\n",
    "df_homicidios_final.head(2)"
   ]
  },
  {
   "cell_type": "code",
   "execution_count": 72,
   "metadata": {},
   "outputs": [
    {
     "name": "stdout",
     "output_type": "stream",
     "text": [
      "(27602, 18)\n"
     ]
    },
    {
     "data": {
      "text/html": [
       "<div>\n",
       "<style scoped>\n",
       "    .dataframe tbody tr th:only-of-type {\n",
       "        vertical-align: middle;\n",
       "    }\n",
       "\n",
       "    .dataframe tbody tr th {\n",
       "        vertical-align: top;\n",
       "    }\n",
       "\n",
       "    .dataframe thead th {\n",
       "        text-align: right;\n",
       "    }\n",
       "</style>\n",
       "<table border=\"1\" class=\"dataframe\">\n",
       "  <thead>\n",
       "    <tr style=\"text-align: right;\">\n",
       "      <th></th>\n",
       "      <th>ID_siniestro</th>\n",
       "      <th>Nro_victimas</th>\n",
       "      <th>Fecha</th>\n",
       "      <th>Franja_horaria</th>\n",
       "      <th>Comuna</th>\n",
       "      <th>Tipo_calle</th>\n",
       "      <th>Longitud</th>\n",
       "      <th>Latitud</th>\n",
       "      <th>Vehiculo_Victima</th>\n",
       "      <th>Vehiculo_Acusado</th>\n",
       "      <th>moto</th>\n",
       "      <th>auto</th>\n",
       "      <th>transporte_publico</th>\n",
       "      <th>camion</th>\n",
       "      <th>ciclista</th>\n",
       "      <th>gravedad</th>\n",
       "      <th>Sexo</th>\n",
       "      <th>Edad</th>\n",
       "    </tr>\n",
       "  </thead>\n",
       "  <tbody>\n",
       "    <tr>\n",
       "      <th>0</th>\n",
       "      <td>LC-2019-0000179</td>\n",
       "      <td>1</td>\n",
       "      <td>2019-01-01 00:00:00</td>\n",
       "      <td>9</td>\n",
       "      <td>14</td>\n",
       "      <td>NaN</td>\n",
       "      <td>-58.408911</td>\n",
       "      <td>-34.559658</td>\n",
       "      <td>CICLISTA</td>\n",
       "      <td>NaN</td>\n",
       "      <td>NaN</td>\n",
       "      <td>NaN</td>\n",
       "      <td>NaN</td>\n",
       "      <td>NaN</td>\n",
       "      <td>1.0</td>\n",
       "      <td>LEVE</td>\n",
       "      <td>NaN</td>\n",
       "      <td>NaN</td>\n",
       "    </tr>\n",
       "    <tr>\n",
       "      <th>1</th>\n",
       "      <td>LC-2019-0000053</td>\n",
       "      <td>1</td>\n",
       "      <td>2019-01-01 00:00:00</td>\n",
       "      <td>1</td>\n",
       "      <td>8</td>\n",
       "      <td>NaN</td>\n",
       "      <td>-58.44351</td>\n",
       "      <td>-34.669125</td>\n",
       "      <td>AUTO</td>\n",
       "      <td>NaN</td>\n",
       "      <td>NaN</td>\n",
       "      <td>1.0</td>\n",
       "      <td>NaN</td>\n",
       "      <td>NaN</td>\n",
       "      <td>NaN</td>\n",
       "      <td>LEVE</td>\n",
       "      <td>MASCULINO</td>\n",
       "      <td>57</td>\n",
       "    </tr>\n",
       "  </tbody>\n",
       "</table>\n",
       "</div>"
      ],
      "text/plain": [
       "      ID_siniestro  Nro_victimas                Fecha Franja_horaria Comuna  \\\n",
       "0  LC-2019-0000179             1  2019-01-01 00:00:00              9     14   \n",
       "1  LC-2019-0000053             1  2019-01-01 00:00:00              1      8   \n",
       "\n",
       "  Tipo_calle    Longitud     Latitud Vehiculo_Victima Vehiculo_Acusado  moto  \\\n",
       "0        NaN  -58.408911  -34.559658         CICLISTA              NaN   NaN   \n",
       "1        NaN   -58.44351  -34.669125             AUTO              NaN   NaN   \n",
       "\n",
       "   auto  transporte_publico  camion  ciclista gravedad       Sexo Edad  \n",
       "0   NaN                 NaN     NaN       1.0     LEVE        NaN  NaN  \n",
       "1   1.0                 NaN     NaN       NaN     LEVE  MASCULINO   57  "
      ]
     },
     "execution_count": 72,
     "metadata": {},
     "output_type": "execute_result"
    }
   ],
   "source": [
    "print(df_lesiones_final.shape)\n",
    "df_lesiones_final.head(2)"
   ]
  },
  {
   "cell_type": "code",
   "execution_count": 73,
   "metadata": {},
   "outputs": [],
   "source": [
    "# Los archivos se almacenan en local \n",
    "df_homicidios_final.to_csv('homicidios_final.csv', index=False)\n",
    "df_lesiones_final.to_csv('lesiones_final.csv', index=False)"
   ]
  }
 ],
 "metadata": {
  "kernelspec": {
   "display_name": "Python 3",
   "language": "python",
   "name": "python3"
  },
  "language_info": {
   "codemirror_mode": {
    "name": "ipython",
    "version": 3
   },
   "file_extension": ".py",
   "mimetype": "text/x-python",
   "name": "python",
   "nbconvert_exporter": "python",
   "pygments_lexer": "ipython3",
   "version": "3.12.1"
  }
 },
 "nbformat": 4,
 "nbformat_minor": 2
}
